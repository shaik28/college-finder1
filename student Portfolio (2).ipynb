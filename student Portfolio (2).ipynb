{
 "cells": [
  {
   "cell_type": "code",
   "execution_count": 4,
   "id": "081af7fb",
   "metadata": {},
   "outputs": [
    {
     "name": "stdout",
     "output_type": "stream",
     "text": [
      "Enter the name: sana\n",
      "Enter the standard: 3\n",
      "Enter the division: A\n",
      "Enter the roll no: 41\n",
      "Enter the marks got in english: 79\n",
      "Enter the marks got in hindhi: 98.5\n",
      "Enter the marks got in maths: 97\n",
      "Enter the marks got in science: 88\n",
      "total marks: 362.5\n",
      "overall percentage of the sudent:90.625\n"
     ]
    }
   ],
   "source": [
    "#student details\n",
    "name=str(input(\"Enter the name: \"))\n",
    "standard=int(input(\"Enter the standard: \"))\n",
    "divison=input(\"Enter the division: \")\n",
    "rollNo=input(\"Enter the roll no: \")\n",
    "#student marks in english,hindhi,maths,science\n",
    "english=float(input(\"Enter the marks got in english: \"))\n",
    "hindhi=float(input(\"Enter the marks got in hindhi: \"))\n",
    "maths=float(input(\"Enter the marks got in maths: \"))\n",
    "science=float(input(\"Enter the marks got in science: \"))\n",
    "total = english + hindhi + maths + science #total marks acquired by student \n",
    "print(f\"total marks: {total}\")\n",
    "percentage = (total * 100)/400 #100 marks was alloted for each subject so total 400 marks for 4 subjects\n",
    "print(f\"overall percentage of the sudent:{percentage}\")"
   ]
  },
  {
   "cell_type": "code",
   "execution_count": null,
   "id": "342bce8b",
   "metadata": {},
   "outputs": [],
   "source": []
  }
 ],
 "metadata": {
  "kernelspec": {
   "display_name": "Python 3",
   "language": "python",
   "name": "python3"
  },
  "language_info": {
   "codemirror_mode": {
    "name": "ipython",
    "version": 3
   },
   "file_extension": ".py",
   "mimetype": "text/x-python",
   "name": "python",
   "nbconvert_exporter": "python",
   "pygments_lexer": "ipython3",
   "version": "3.8.8"
  }
 },
 "nbformat": 4,
 "nbformat_minor": 5
}
