{
 "cells": [
  {
   "cell_type": "code",
   "execution_count": 2,
   "id": "c2828d75",
   "metadata": {},
   "outputs": [
    {
     "name": "stdout",
     "output_type": "stream",
     "text": [
      "Enter your choise rock/paper/scissor: rock\n",
      "Enter your choise rock/paper/scissor: scissor\n",
      "user1 is the winner\n"
     ]
    }
   ],
   "source": [
    "user1=str(input(\"Enter your choise rock/paper/scissor: \"))\n",
    "user2=str(input(\"Enter your choise rock/paper/scissor: \"))\n",
    "if(user1==\"rock\")and (user2==\"paper\"):\n",
    "    print(\"user2 is the winner \")\n",
    "elif(user1==\"paper\") and (user2==\"rock\"):\n",
    "    print(\"user2 is the winner\")\n",
    "if(user1==\"paper\") and (user2==\"scissor\"):\n",
    "    print(\"user2 is the winner\")\n",
    "elif(user1==\"scissor\") and (user==\"paper\"):\n",
    "    print(\"user1 is the winner\")\n",
    "if(user1==\"rock\") and (user2==\"scissor\"):\n",
    "    print(\"user1 is the winner\")\n",
    "elif(user1==\"scissor\") and (user2==\"rock\"):\n",
    "    print(\"user2 is the winner\")"
   ]
  },
  {
   "cell_type": "code",
   "execution_count": null,
   "id": "e7483184",
   "metadata": {},
   "outputs": [],
   "source": []
  }
 ],
 "metadata": {
  "kernelspec": {
   "display_name": "Python 3",
   "language": "python",
   "name": "python3"
  },
  "language_info": {
   "codemirror_mode": {
    "name": "ipython",
    "version": 3
   },
   "file_extension": ".py",
   "mimetype": "text/x-python",
   "name": "python",
   "nbconvert_exporter": "python",
   "pygments_lexer": "ipython3",
   "version": "3.8.8"
  }
 },
 "nbformat": 4,
 "nbformat_minor": 5
}
