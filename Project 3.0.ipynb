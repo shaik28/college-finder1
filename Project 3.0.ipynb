{
 "cells": [
  {
   "cell_type": "markdown",
   "id": "7bec0271",
   "metadata": {},
   "source": [
    "# Project 3.0 :- Using a while loop print a table till 12"
   ]
  },
  {
   "cell_type": "code",
   "execution_count": 1,
   "id": "2654fe47",
   "metadata": {},
   "outputs": [
    {
     "name": "stdout",
     "output_type": "stream",
     "text": [
      "Table 2 till 12 is:\n",
      "2 * 0 : 0\n",
      "2 * 1 : 2\n",
      "2 * 2 : 4\n",
      "2 * 3 : 6\n",
      "2 * 4 : 8\n",
      "2 * 5 : 10\n",
      "2 * 6 : 12\n",
      "2 * 7 : 14\n",
      "2 * 8 : 16\n",
      "2 * 9 : 18\n",
      "2 * 10 : 20\n",
      "2 * 11 : 22\n",
      "2 * 12 : 24\n"
     ]
    }
   ],
   "source": [
    "print(\"Table 2 till 12 is:\")\n",
    "i=0\n",
    "while(i<13):\n",
    "    table = 2 * i\n",
    "    print(f\"2 * {i} : {table}\")\n",
    "    i = i + 1"
   ]
  },
  {
   "cell_type": "code",
   "execution_count": null,
   "id": "cc120006",
   "metadata": {},
   "outputs": [],
   "source": []
  }
 ],
 "metadata": {
  "kernelspec": {
   "display_name": "Python 3",
   "language": "python",
   "name": "python3"
  },
  "language_info": {
   "codemirror_mode": {
    "name": "ipython",
    "version": 3
   },
   "file_extension": ".py",
   "mimetype": "text/x-python",
   "name": "python",
   "nbconvert_exporter": "python",
   "pygments_lexer": "ipython3",
   "version": "3.8.8"
  }
 },
 "nbformat": 4,
 "nbformat_minor": 5
}
